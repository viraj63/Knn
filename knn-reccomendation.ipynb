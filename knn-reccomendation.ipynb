{
 "cells": [
  {
   "cell_type": "code",
   "execution_count": 2,
   "metadata": {
    "_cell_guid": "b1076dfc-b9ad-4769-8c92-a6c4dae69d19",
    "_uuid": "8f2839f25d086af736a60e9eeb907d3b93b6e0e5",
    "execution": {
     "iopub.execute_input": "2024-04-30T07:20:32.458476Z",
     "iopub.status.busy": "2024-04-30T07:20:32.457981Z",
     "iopub.status.idle": "2024-04-30T07:20:33.204326Z",
     "shell.execute_reply": "2024-04-30T07:20:33.202906Z",
     "shell.execute_reply.started": "2024-04-30T07:20:32.458437Z"
    }
   },
   "outputs": [
    {
     "name": "stdout",
     "output_type": "stream",
     "text": [
      "/kaggle/input/dataset-1/u.item\n",
      "/kaggle/input/dataset-1/u.data\n",
      "/kaggle/input/dataset-1/u.user\n"
     ]
    }
   ],
   "source": [
    "# This Python 3 environment comes with many helpful analytics libraries installed\n",
    "# It is defined by the kaggle/python Docker image: https://github.com/kaggle/docker-python\n",
    "# For example, here's several helpful packages to load\n",
    "\n",
    "import numpy as np # linear algebra\n",
    "import pandas as pd # data processing, CSV file I/O (e.g. pd.read_csv)\n",
    "from IPython.display import display, Math\n",
    "# Input data files are available in the read-only \"../input/\" directory\n",
    "# For example, running this (by clicking run or pressing Shift+Enter) will list all files under the input directory\n",
    "\n",
    "import os\n",
    "for dirname, _, filenames in os.walk('/kaggle/input'):\n",
    "    for filename in filenames:\n",
    "        print(os.path.join(dirname, filename))\n",
    "\n",
    "# You can write up to 20GB to the current directory (/kaggle/working/) that gets preserved as output when you create a version using \"Save & Run All\" \n",
    "# You can also write temporary files to /kaggle/temp/, but they won't be saved outside of the current session"
   ]
  },
  {
   "cell_type": "markdown",
   "metadata": {},
   "source": [
    "### Introduction\n",
    "\n",
    "I re-created an experiment that explores collaborative filtering techniques, specifically using the KNNBasic algorithm for recommendation. I loaded a dataset from a plain text file and then trained the model on it. To assess its performance, I employed cross-validation, evaluating metrics such as RMSE and MAE.\n",
    "\n",
    "Throughout the process, I followed several steps, including data loading, model training, prediction making, and recommendation generation. My algorithm is based on user-based collaborative filtering with cosine similarity. Additionally, I visualized the model errors and retrieved nearest neighbors of an item."
   ]
  },
  {
   "cell_type": "code",
   "execution_count": 3,
   "metadata": {
    "execution": {
     "iopub.execute_input": "2024-04-30T07:20:33.209127Z",
     "iopub.status.busy": "2024-04-30T07:20:33.207792Z",
     "iopub.status.idle": "2024-04-30T07:20:33.673660Z",
     "shell.execute_reply": "2024-04-30T07:20:33.672209Z",
     "shell.execute_reply.started": "2024-04-30T07:20:33.209069Z"
    }
   },
   "outputs": [],
   "source": [
    "# Load Surprise libraries\n",
    "from surprise import KNNBasic\n",
    "from surprise import Reader\n",
    "from surprise import Dataset\n",
    "from surprise import accuracy\n",
    "from surprise.model_selection import cross_validate"
   ]
  },
  {
   "cell_type": "code",
   "execution_count": 4,
   "metadata": {
    "execution": {
     "iopub.execute_input": "2024-04-30T07:20:33.675999Z",
     "iopub.status.busy": "2024-04-30T07:20:33.675376Z",
     "iopub.status.idle": "2024-04-30T07:20:33.683574Z",
     "shell.execute_reply": "2024-04-30T07:20:33.682284Z",
     "shell.execute_reply.started": "2024-04-30T07:20:33.675958Z"
    }
   },
   "outputs": [],
   "source": [
    "# Load Plotting libraries\n",
    "%matplotlib inline\n",
    "import matplotlib.pyplot as plt"
   ]
  },
  {
   "cell_type": "markdown",
   "metadata": {},
   "source": [
    "### 1. Loading data\n"
   ]
  },
  {
   "cell_type": "code",
   "execution_count": 5,
   "metadata": {
    "execution": {
     "iopub.execute_input": "2024-04-30T07:20:33.686315Z",
     "iopub.status.busy": "2024-04-30T07:20:33.685501Z",
     "iopub.status.idle": "2024-04-30T07:20:33.698235Z",
     "shell.execute_reply": "2024-04-30T07:20:33.697089Z",
     "shell.execute_reply.started": "2024-04-30T07:20:33.686255Z"
    }
   },
   "outputs": [],
   "source": [
    "# Path to dataset file\n",
    "file_path = os.path.expanduser('/kaggle/input/dataset-1/u.data')"
   ]
  },
  {
   "cell_type": "code",
   "execution_count": 6,
   "metadata": {
    "execution": {
     "iopub.execute_input": "2024-04-30T07:20:33.702122Z",
     "iopub.status.busy": "2024-04-30T07:20:33.701332Z",
     "iopub.status.idle": "2024-04-30T07:20:34.070805Z",
     "shell.execute_reply": "2024-04-30T07:20:34.069673Z",
     "shell.execute_reply.started": "2024-04-30T07:20:33.702077Z"
    }
   },
   "outputs": [],
   "source": [
    "# Read the data into a Surprise dataset\n",
    "reader = Reader(line_format = 'user item rating timestamp', sep = '\\t', rating_scale = (1, 5))\n",
    "data = Dataset.load_from_file(file_path, reader = reader)"
   ]
  },
  {
   "cell_type": "code",
   "execution_count": 7,
   "metadata": {
    "execution": {
     "iopub.execute_input": "2024-04-30T07:20:34.072961Z",
     "iopub.status.busy": "2024-04-30T07:20:34.072095Z",
     "iopub.status.idle": "2024-04-30T07:20:34.078299Z",
     "shell.execute_reply": "2024-04-30T07:20:34.077272Z",
     "shell.execute_reply.started": "2024-04-30T07:20:34.072928Z"
    }
   },
   "outputs": [],
   "source": [
    "#!pip install latexify-py"
   ]
  },
  {
   "cell_type": "code",
   "execution_count": 8,
   "metadata": {
    "execution": {
     "iopub.execute_input": "2024-04-30T07:20:34.080175Z",
     "iopub.status.busy": "2024-04-30T07:20:34.079812Z",
     "iopub.status.idle": "2024-04-30T07:20:34.149519Z",
     "shell.execute_reply": "2024-04-30T07:20:34.148232Z",
     "shell.execute_reply.started": "2024-04-30T07:20:34.080145Z"
    }
   },
   "outputs": [],
   "source": [
    "import math\n",
    "import latexify"
   ]
  },
  {
   "cell_type": "markdown",
   "metadata": {},
   "source": [
    "### 2. Train the model and measure its error"
   ]
  },
  {
   "cell_type": "code",
   "execution_count": 9,
   "metadata": {
    "execution": {
     "iopub.execute_input": "2024-04-30T07:20:34.151783Z",
     "iopub.status.busy": "2024-04-30T07:20:34.151247Z",
     "iopub.status.idle": "2024-04-30T07:20:34.161652Z",
     "shell.execute_reply": "2024-04-30T07:20:34.160322Z",
     "shell.execute_reply.started": "2024-04-30T07:20:34.151748Z"
    }
   },
   "outputs": [
    {
     "data": {
      "text/latex": [
       "$\\displaystyle \\hat{r}_{ui} = \\frac{\\sum_{v \\in N_{ki}(u)} \\text{sim}(u,v) \\cdot r_{vi}}{\\sum_{v \\in N_{ki}(u)} \\text{sim}(u,v)}$"
      ],
      "text/plain": [
       "<IPython.core.display.Math object>"
      ]
     },
     "metadata": {},
     "output_type": "display_data"
    }
   ],
   "source": [
    "# LaTeX representation of the formula\n",
    "latex_formula = r\"\\hat{r}_{ui} = \\frac{\\sum_{v \\in N_{ki}(u)} \\text{sim}(u,v) \\cdot r_{vi}}{\\sum_{v \\in N_{ki}(u)} \\text{sim}(u,v)}\"\n",
    "\n",
    "# Display the formula\n",
    "display(Math(latex_formula))"
   ]
  },
  {
   "cell_type": "code",
   "execution_count": 10,
   "metadata": {
    "execution": {
     "iopub.execute_input": "2024-04-30T07:20:34.163642Z",
     "iopub.status.busy": "2024-04-30T07:20:34.163263Z",
     "iopub.status.idle": "2024-04-30T07:20:34.172453Z",
     "shell.execute_reply": "2024-04-30T07:20:34.170930Z",
     "shell.execute_reply.started": "2024-04-30T07:20:34.163612Z"
    }
   },
   "outputs": [],
   "source": [
    "# Use k-NN algorithm with user-based collaborative filtering and cosine similarity\n",
    "kk = 50\n",
    "sim_options = {'name': 'cosine', 'user_based': True}\n",
    "algo = KNNBasic(k = kk, sim_options = sim_options, verbose = True)"
   ]
  },
  {
   "cell_type": "markdown",
   "metadata": {},
   "source": [
    "We're setting up a recommendation system using a k-Nearest Neighbors (k-NN) algorithm for collaborative filtering. Collaborative filtering is a method for making predictions about what a user might like based on preferences from similar users.\n",
    "\n",
    "Here's why we've chosen this specific setup:\n",
    "\n",
    "Firstly, we're using the k-NN algorithm. It's a straightforward but powerful approach where we find the 'k' nearest neighbors to a target user based on their past ratings. Then, we use these neighbors' ratings to predict what the target user might like. It's a method that's often used in recommendation systems because of its simplicity and effectiveness.\n",
    "\n",
    "Next, we're opting for user-based collaborative filtering. This means we're recommending items to a user based on the preferences of users who are similar to them. If two users have similar tastes, they're likely to enjoy similar items. It's intuitive and often yields good results.\n",
    "\n",
    "For measuring similarity between users, we're using cosine similarity. This metric calculates the cosine of the angle between two vectors, providing a measure of similarity that's unaffected by the magnitude of the vectors. It's suitable for recommendation systems because it focuses on the direction of preferences rather than their magnitude.\n",
    "\n",
    "The specific parameters we've chosen, like kk = 50 and sim_options, allow us to fine-tune the algorithm. For example, kk = 50 specifies that we'll consider the 50 nearest neighbors, and sim_options configures the similarity measure to cosine similarity. These parameters help balance prediction accuracy and computational efficiency."
   ]
  },
  {
   "cell_type": "code",
   "execution_count": 11,
   "metadata": {
    "execution": {
     "iopub.execute_input": "2024-04-30T07:20:34.175319Z",
     "iopub.status.busy": "2024-04-30T07:20:34.174571Z",
     "iopub.status.idle": "2024-04-30T07:21:09.862770Z",
     "shell.execute_reply": "2024-04-30T07:21:09.861811Z",
     "shell.execute_reply.started": "2024-04-30T07:20:34.175274Z"
    }
   },
   "outputs": [
    {
     "name": "stdout",
     "output_type": "stream",
     "text": [
      "Computing the cosine similarity matrix...\n",
      "Done computing similarity matrix.\n",
      "Computing the cosine similarity matrix...\n",
      "Done computing similarity matrix.\n",
      "Computing the cosine similarity matrix...\n",
      "Done computing similarity matrix.\n",
      "Computing the cosine similarity matrix...\n",
      "Done computing similarity matrix.\n",
      "Computing the cosine similarity matrix...\n",
      "Done computing similarity matrix.\n",
      "Evaluating RMSE, MAE of algorithm KNNBasic on 5 split(s).\n",
      "\n",
      "                  Fold 1  Fold 2  Fold 3  Fold 4  Fold 5  Mean    Std     \n",
      "RMSE (testset)    1.0222  1.0101  1.0133  1.0190  1.0198  1.0169  0.0045  \n",
      "MAE (testset)     0.8073  0.7983  0.8009  0.8078  0.8068  0.8042  0.0039  \n",
      "Fit time          0.69    0.71    0.66    0.69    0.73    0.70    0.02    \n",
      "Test time         5.95    6.19    6.58    6.17    6.08    6.19    0.21    \n"
     ]
    }
   ],
   "source": [
    "# Run 5-fold cross-validation and print results\n",
    "cv = cross_validate(algo, data, measures = ['RMSE', 'MAE'], cv = 5, verbose = True)"
   ]
  },
  {
   "cell_type": "markdown",
   "metadata": {},
   "source": [
    "It's nice to see that the algorithm's performance doesn't vary much across different parts of the dataset. The standard deviations for RMSE and MAE are pretty small, which tells us that it's giving consistent results across the board.\n",
    "\n",
    "The errors (RMSE and MAE) aren't too high, which means it's making decent guesses about what users might like. The RMSE values are around 1.0169 on average, and the MAE values hover around 0.8042"
   ]
  },
  {
   "cell_type": "code",
   "execution_count": 12,
   "metadata": {
    "execution": {
     "iopub.execute_input": "2024-04-30T07:21:09.864752Z",
     "iopub.status.busy": "2024-04-30T07:21:09.864191Z",
     "iopub.status.idle": "2024-04-30T07:21:10.291622Z",
     "shell.execute_reply": "2024-04-30T07:21:10.290036Z",
     "shell.execute_reply.started": "2024-04-30T07:21:09.864704Z"
    },
    "scrolled": true
   },
   "outputs": [
    {
     "data": {
      "image/png": "[encoded data removed]",
      "text/plain": [
       "<Figure size 1000x500 with 1 Axes>"
      ]
     },
     "metadata": {},
     "output_type": "display_data"
    }
   ],
   "source": [
    "# Get data\n",
    "rmse = cv['test_rmse']\n",
    "mae = cv['test_mae']\n",
    "x = np.arange(len(rmse))\n",
    "\n",
    "# Set up the matplotlib figure\n",
    "fig, ax = plt.subplots(figsize = (10, 5))\n",
    "plt.xticks(np.arange(min(x), max(x) + 1, 1.0))\n",
    "plt.ylim(0.5, 1.3)\n",
    "ax.plot(x, rmse, marker='o', label=\"rmse\")\n",
    "ax.plot(x, mae, marker='o', label=\"mae\")\n",
    "\n",
    "# Chart setup\n",
    "plt.title(\"Model Errors\", fontsize = 12)\n",
    "plt.xlabel(\"CV\", fontsize = 10)\n",
    "plt.ylabel(\"Error\", fontsize = 10)\n",
    "plt.legend()\n",
    "plt.show()"
   ]
  },
  {
   "cell_type": "markdown",
   "metadata": {
    "execution": {
     "iopub.execute_input": "2024-04-30T06:28:27.518782Z",
     "iopub.status.busy": "2024-04-30T06:28:27.518369Z",
     "iopub.status.idle": "2024-04-30T06:28:27.524513Z",
     "shell.execute_reply": "2024-04-30T06:28:27.522782Z",
     "shell.execute_reply.started": "2024-04-30T06:28:27.518740Z"
    }
   },
   "source": [
    "### 3. Make some predictions"
   ]
  },
  {
   "cell_type": "code",
   "execution_count": 13,
   "metadata": {
    "execution": {
     "iopub.execute_input": "2024-04-30T07:21:10.293940Z",
     "iopub.status.busy": "2024-04-30T07:21:10.293065Z",
     "iopub.status.idle": "2024-04-30T07:21:10.300658Z",
     "shell.execute_reply": "2024-04-30T07:21:10.299378Z",
     "shell.execute_reply.started": "2024-04-30T07:21:10.293901Z"
    }
   },
   "outputs": [
    {
     "name": "stdout",
     "output_type": "stream",
     "text": [
      "user: 13         item: 181        r_ui = None   est = 4.04   {'actual_k': 50, 'was_impossible': False}\n"
     ]
    }
   ],
   "source": [
    "# Without real rating\n",
    "p1 = algo.predict(uid = '13', iid = '181', verbose = True)"
   ]
  },
  {
   "cell_type": "code",
   "execution_count": 14,
   "metadata": {
    "execution": {
     "iopub.execute_input": "2024-04-30T07:21:10.302567Z",
     "iopub.status.busy": "2024-04-30T07:21:10.302215Z",
     "iopub.status.idle": "2024-04-30T07:21:10.318274Z",
     "shell.execute_reply": "2024-04-30T07:21:10.317024Z",
     "shell.execute_reply.started": "2024-04-30T07:21:10.302538Z"
    }
   },
   "outputs": [
    {
     "name": "stdout",
     "output_type": "stream",
     "text": [
      "user: 196        item: 302        r_ui = 4.00   est = 4.02   {'actual_k': 50, 'was_impossible': False}\n"
     ]
    }
   ],
   "source": [
    "# With real rating\n",
    "p2 = algo.predict(uid = '196', iid = '302', r_ui = 4, verbose = True)"
   ]
  },
  {
   "cell_type": "markdown",
   "metadata": {},
   "source": [
    "### 4. Get the k nearest neighbors of an item"
   ]
  },
  {
   "cell_type": "code",
   "execution_count": 15,
   "metadata": {
    "execution": {
     "iopub.execute_input": "2024-04-30T07:21:10.324507Z",
     "iopub.status.busy": "2024-04-30T07:21:10.324144Z",
     "iopub.status.idle": "2024-04-30T07:21:10.332822Z",
     "shell.execute_reply": "2024-04-30T07:21:10.331667Z",
     "shell.execute_reply.started": "2024-04-30T07:21:10.324479Z"
    }
   },
   "outputs": [],
   "source": [
    "import os\n",
    "import io"
   ]
  },
  {
   "cell_type": "code",
   "execution_count": 16,
   "metadata": {
    "execution": {
     "iopub.execute_input": "2024-04-30T07:21:10.337244Z",
     "iopub.status.busy": "2024-04-30T07:21:10.336884Z",
     "iopub.status.idle": "2024-04-30T07:21:10.346411Z",
     "shell.execute_reply": "2024-04-30T07:21:10.345254Z",
     "shell.execute_reply.started": "2024-04-30T07:21:10.337214Z"
    }
   },
   "outputs": [],
   "source": [
    "# Return two mappings to convert raw ids into movie names and movie names into raw ids\n",
    "def read_item_names(file_path):\n",
    "    rid_to_name = {}\n",
    "    name_to_rid = {}\n",
    "    \n",
    "    with io.open(file_path, 'r', encoding = 'ISO-8859-1') as f:\n",
    "        for line in f:\n",
    "            line = line.split('|')\n",
    "            rid_to_name[line[0]] = line[1]\n",
    "            name_to_rid[line[1]] = line[0]\n",
    "    \n",
    "    return rid_to_name, name_to_rid\n",
    "\n",
    "#we are using the above function as it allows for easy conversion between raw movie IDs and movie names, facilitating tasks such as displaying movie names based on their IDs and vice versa."
   ]
  },
  {
   "cell_type": "code",
   "execution_count": 17,
   "metadata": {
    "execution": {
     "iopub.execute_input": "2024-04-30T07:21:10.350733Z",
     "iopub.status.busy": "2024-04-30T07:21:10.350336Z",
     "iopub.status.idle": "2024-04-30T07:21:10.371167Z",
     "shell.execute_reply": "2024-04-30T07:21:10.370051Z",
     "shell.execute_reply.started": "2024-04-30T07:21:10.350679Z"
    }
   },
   "outputs": [],
   "source": [
    "# Read the mappings raw id <-> movie name\n",
    "item_filepath = '/kaggle/input/dataset-1/u.item'\n",
    "rid_to_name, name_to_rid = read_item_names(item_filepath)"
   ]
  },
  {
   "cell_type": "code",
   "execution_count": 18,
   "metadata": {
    "execution": {
     "iopub.execute_input": "2024-04-30T07:21:10.373250Z",
     "iopub.status.busy": "2024-04-30T07:21:10.372901Z",
     "iopub.status.idle": "2024-04-30T07:21:10.377480Z",
     "shell.execute_reply": "2024-04-30T07:21:10.376434Z",
     "shell.execute_reply.started": "2024-04-30T07:21:10.373221Z"
    }
   },
   "outputs": [],
   "source": [
    "# Target movie\n",
    "target_movie = 'Toy Story (1995)'"
   ]
  },
  {
   "cell_type": "code",
   "execution_count": 19,
   "metadata": {
    "execution": {
     "iopub.execute_input": "2024-04-30T07:21:10.379441Z",
     "iopub.status.busy": "2024-04-30T07:21:10.379084Z",
     "iopub.status.idle": "2024-04-30T07:21:10.392262Z",
     "shell.execute_reply": "2024-04-30T07:21:10.391213Z",
     "shell.execute_reply.started": "2024-04-30T07:21:10.379411Z"
    }
   },
   "outputs": [
    {
     "name": "stdout",
     "output_type": "stream",
     "text": [
      "Toy Story (1995): 111\n"
     ]
    }
   ],
   "source": [
    "# Retrieve inner id of the movie Toy Story\n",
    "toy_story_raw_id = name_to_rid[target_movie]\n",
    "toy_story_inner_id = algo.trainset.to_inner_iid(toy_story_raw_id)\n",
    "print(target_movie + ':', toy_story_inner_id)"
   ]
  },
  {
   "cell_type": "code",
   "execution_count": 20,
   "metadata": {
    "execution": {
     "iopub.execute_input": "2024-04-30T07:21:10.393631Z",
     "iopub.status.busy": "2024-04-30T07:21:10.393301Z",
     "iopub.status.idle": "2024-04-30T07:21:10.416294Z",
     "shell.execute_reply": "2024-04-30T07:21:10.414844Z",
     "shell.execute_reply.started": "2024-04-30T07:21:10.393603Z"
    }
   },
   "outputs": [
    {
     "data": {
      "text/plain": [
       "[13, 44, 54, 91, 96, 100, 102, 106, 117, 148]"
      ]
     },
     "execution_count": 20,
     "metadata": {},
     "output_type": "execute_result"
    }
   ],
   "source": [
    "# Retrieve inner ids of the nearest neighbors of Toy Story\n",
    "toy_story_neighbors = algo.get_neighbors(toy_story_inner_id, k = 10)\n",
    "toy_story_neighbors"
   ]
  },
  {
   "cell_type": "code",
   "execution_count": 21,
   "metadata": {
    "execution": {
     "iopub.execute_input": "2024-04-30T07:21:10.421047Z",
     "iopub.status.busy": "2024-04-30T07:21:10.420644Z",
     "iopub.status.idle": "2024-04-30T07:21:10.429594Z",
     "shell.execute_reply": "2024-04-30T07:21:10.428281Z",
     "shell.execute_reply.started": "2024-04-30T07:21:10.421016Z"
    }
   },
   "outputs": [
    {
     "name": "stdout",
     "output_type": "stream",
     "text": [
      "The movies most similar to 'Toy Story (1995) are:\n",
      "177 - Good, The Bad and The Ugly, The (1966)\n",
      "434 - Forbidden Planet (1956)\n",
      "606 - All About Eve (1950)\n",
      "1052 - Dracula: Dead and Loving It (1995)\n",
      "194 - Sting, The (1973)\n",
      "656 - M (1931)\n",
      "174 - Raiders of the Lost Ark (1981)\n",
      "685 - Executive Decision (1996)\n",
      "607 - Rebecca (1940)\n",
      "16 - French Twist (Gazon maudit) (1995)\n"
     ]
    }
   ],
   "source": [
    "# The 10 nearest neighbors of Toy Story are:\n",
    "print(\"The movies most similar to '\" + target_movie + \" are:\")\n",
    "\n",
    "for inner_id in toy_story_neighbors:\n",
    "    raw_id = algo.trainset.to_raw_iid(inner_id)\n",
    "    movie = rid_to_name[raw_id]\n",
    "    print(raw_id, '-', movie)"
   ]
  },
  {
   "cell_type": "markdown",
   "metadata": {
    "execution": {
     "iopub.execute_input": "2024-04-30T06:39:58.342402Z",
     "iopub.status.busy": "2024-04-30T06:39:58.342086Z",
     "iopub.status.idle": "2024-04-30T06:39:58.353743Z",
     "shell.execute_reply": "2024-04-30T06:39:58.352280Z",
     "shell.execute_reply.started": "2024-04-30T06:39:58.342376Z"
    }
   },
   "source": [
    "### 5. Get the top-N recommendations\n"
   ]
  },
  {
   "cell_type": "code",
   "execution_count": 22,
   "metadata": {
    "execution": {
     "iopub.execute_input": "2024-04-30T07:21:10.431483Z",
     "iopub.status.busy": "2024-04-30T07:21:10.431145Z",
     "iopub.status.idle": "2024-04-30T07:21:10.442813Z",
     "shell.execute_reply": "2024-04-30T07:21:10.441419Z",
     "shell.execute_reply.started": "2024-04-30T07:21:10.431454Z"
    }
   },
   "outputs": [],
   "source": [
    "# Return the top-N recommendation for each user from a set of predictions.\n",
    "def get_top_n(predictions, n = 10):\n",
    "    \n",
    "    # First map the predictions to each user.\n",
    "    top_n = defaultdict(list)\n",
    "    for uid, iid, true_r, est, _ in predictions:\n",
    "        top_n[uid].append((iid, est))\n",
    "        \n",
    "    # Then sort the predictions for each user and retrieve the k highest ones.\n",
    "    for uid, user_ratings in top_n.items():\n",
    "        user_ratings.sort(key=lambda x: x[1], reverse=True)\n",
    "        top_n[uid] = user_ratings[:n]\n",
    "    \n",
    "    return top_n"
   ]
  },
  {
   "cell_type": "markdown",
   "metadata": {},
   "source": [
    "The `get_top_n` function efficiently generates personalized recommendations for users based on predictions made by a recommendation algorithm. It achieves this by first grouping the predictions according to user IDs, creating a mapping that associates each user with a list of predicted ratings for different items. This initial organization lays the groundwork for subsequent steps in the recommendation process."
   ]
  },
  {
   "cell_type": "code",
   "execution_count": 23,
   "metadata": {
    "execution": {
     "iopub.execute_input": "2024-04-30T07:21:10.444819Z",
     "iopub.status.busy": "2024-04-30T07:21:10.444224Z",
     "iopub.status.idle": "2024-04-30T07:24:25.986940Z",
     "shell.execute_reply": "2024-04-30T07:24:25.985917Z",
     "shell.execute_reply.started": "2024-04-30T07:21:10.444776Z"
    }
   },
   "outputs": [
    {
     "name": "stdout",
     "output_type": "stream",
     "text": [
      "Computing the cosine similarity matrix...\n",
      "Done computing similarity matrix.\n",
      "RMSE: 0.9255\n"
     ]
    },
    {
     "data": {
      "text/plain": [
       "0.9254759689787458"
      ]
     },
     "execution_count": 23,
     "metadata": {},
     "output_type": "execute_result"
    }
   ],
   "source": [
    "# Create train_set and test_set\n",
    "train_set = data.build_full_trainset()\n",
    "test_set = train_set.build_anti_testset()\n",
    "\n",
    "# First train a KNN algorithm on the whole dataset\n",
    "algo.fit(train_set)\n",
    "predictions = algo.test(test_set)\n",
    "\n",
    "# RMSE should be low as we are biased\n",
    "accuracy.rmse(predictions, verbose = True)"
   ]
  },
  {
   "cell_type": "markdown",
   "metadata": {},
   "source": [
    "With an RMSE of around 0.9255, the recommendation system appears to be performing reasonably well. It implies that, on average, the algorithm's predicted ratings are about 0.9255 units away from the actual ratings in the dataset."
   ]
  },
  {
   "cell_type": "code",
   "execution_count": 24,
   "metadata": {
    "execution": {
     "iopub.execute_input": "2024-04-30T07:24:25.989059Z",
     "iopub.status.busy": "2024-04-30T07:24:25.988433Z",
     "iopub.status.idle": "2024-04-30T07:24:25.993759Z",
     "shell.execute_reply": "2024-04-30T07:24:25.992394Z",
     "shell.execute_reply.started": "2024-04-30T07:24:25.989025Z"
    }
   },
   "outputs": [],
   "source": [
    "from collections import defaultdict"
   ]
  },
  {
   "cell_type": "code",
   "execution_count": 25,
   "metadata": {
    "execution": {
     "iopub.execute_input": "2024-04-30T07:24:25.995793Z",
     "iopub.status.busy": "2024-04-30T07:24:25.995442Z",
     "iopub.status.idle": "2024-04-30T07:24:27.929665Z",
     "shell.execute_reply": "2024-04-30T07:24:27.928321Z",
     "shell.execute_reply.started": "2024-04-30T07:24:25.995762Z"
    }
   },
   "outputs": [
    {
     "name": "stdout",
     "output_type": "stream",
     "text": [
      "Movie: 1189 - Prefontaine (1997) , rating: 5\n",
      "Movie: 1500 - Santa with Muscles (1996) , rating: 5\n",
      "Movie: 814 - Great Day in Harlem, A (1994) , rating: 5\n",
      "Movie: 1536 - Aiqing wansui (1994) , rating: 5\n",
      "Movie: 1293 - Star Kid (1997) , rating: 5\n",
      "Movie: 1599 - Someone Else's America (1995) , rating: 5\n",
      "Movie: 1653 - Entertaining Angels: The Dorothy Day Story (1996) , rating: 5\n",
      "Movie: 1467 - Saint of Fort Washington, The (1993) , rating: 5\n",
      "Movie: 1122 - They Made Me a Criminal (1939) , rating: 5\n",
      "Movie: 1201 - Marlene Dietrich: Shadow and Light (1996)  , rating: 5\n"
     ]
    }
   ],
   "source": [
    "# Than predict ratings for all pairs (u, i) that are NOT in the training set\n",
    "top_n = 10\n",
    "top_pred = get_top_n(predictions, n = top_n)\n",
    "# User raw Id\n",
    "uid_list = ['196']\n",
    "\n",
    "# Print the recommended items for a specific user\n",
    "for uid, user_ratings in top_pred.items():\n",
    "    if uid in uid_list:\n",
    "        for (iid, rating) in user_ratings:\n",
    "            movie = rid_to_name[iid]\n",
    "            print('Movie:', iid, '-', movie, ', rating:', str(rating))"
   ]
  },
  {
   "cell_type": "markdown",
   "metadata": {
    "execution": {
     "iopub.execute_input": "2024-04-30T07:07:01.677152Z",
     "iopub.status.busy": "2024-04-30T07:07:01.676746Z",
     "iopub.status.idle": "2024-04-30T07:10:45.526257Z",
     "shell.execute_reply": "2024-04-30T07:10:45.524333Z",
     "shell.execute_reply.started": "2024-04-30T07:07:01.677121Z"
    }
   },
   "source": [
    "\n",
    "   \n"
   ]
  },
  {
   "cell_type": "code",
   "execution_count": 26,
   "metadata": {
    "execution": {
     "iopub.execute_input": "2024-04-30T07:24:27.931779Z",
     "iopub.status.busy": "2024-04-30T07:24:27.931341Z",
     "iopub.status.idle": "2024-04-30T07:24:27.938164Z",
     "shell.execute_reply": "2024-04-30T07:24:27.936598Z",
     "shell.execute_reply.started": "2024-04-30T07:24:27.931730Z"
    }
   },
   "outputs": [],
   "source": [
    "# import networkx as nx\n",
    "#import matplotlib.pyplot as plt/***  \n",
    "\n",
    "# Create a new graph\n",
    "#G = nx.Graph()\n",
    "\n",
    "# Add nodes for users and items\n",
    "#for uid, iid, _, _, _ in predictions:\n",
    "  #  G.add_node(uid, type='user')\n",
    " #   G.add_node(iid, type='item')\n",
    "\n",
    "# Add edges representing interactions (ratings) between users and items\n",
    "#for uid, iid, _, _, _ in predictions:\n",
    " #   G.add_edge(uid, iid)\n",
    "\n",
    "# Plot the graph\n",
    "#plt.figure(figsize=(12, 8))\n",
    "#pos = nx.spring_layout(G, seed=42)  # Position nodes using a spring layout algorithm\n",
    "#nx.draw(G, pos, with_labels=False, node_size=50, node_color='skyblue', edge_color='gray', alpha=0.7)\n",
    "#plt.title('Interconnected Graph of Testing Dataset')\n",
    "#plt.show()  "
   ]
  }
 ],
 "metadata": {
  "kaggle": {
   "accelerator": "none",
   "dataSources": [
    {
     "datasetId": 4909313,
     "sourceId": 8269220,
     "sourceType": "datasetVersion"
    }
   ],
   "dockerImageVersionId": 30698,
   "isGpuEnabled": false,
   "isInternetEnabled": true,
   "language": "python",
   "sourceType": "notebook"
  },
  "kernelspec": {
   "display_name": "Python 3 (ipykernel)",
   "language": "python",
   "name": "python3"
  },
  "language_info": {
   "codemirror_mode": {
    "name": "ipython",
    "version": 3
   },
   "file_extension": ".py",
   "mimetype": "text/x-python",
   "name": "python",
   "nbconvert_exporter": "python",
   "pygments_lexer": "ipython3",
   "version": "3.9.12"
  }
 },
 "nbformat": 4,
 "nbformat_minor": 4
}
